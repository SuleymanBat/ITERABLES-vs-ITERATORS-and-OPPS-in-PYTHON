{
  "cells": [
    {
      "cell_type": "markdown",
      "metadata": {
        "id": "view-in-github",
        "colab_type": "text"
      },
      "source": [
        "<a href=\"https://colab.research.google.com/github/SuleymanBat/ITERABLES-vs-ITERATORS-and-OPPS-in-PYTHON/blob/main/python_workshop3.ipynb\" target=\"_parent\"><img src=\"https://colab.research.google.com/assets/colab-badge.svg\" alt=\"Open In Colab\"/></a>"
      ]
    },
    {
      "cell_type": "markdown",
      "metadata": {
        "id": "1q3jlGzSkLq5"
      },
      "source": [
        "Q 1: GIVEN TWO INTEGER VALUES, RETURN THEIR SUM. IF THE TWO VALUES ARE THE SAME, THEN RETURN DOUBLE THEIR SUM."
      ]
    },
    {
      "cell_type": "code",
      "execution_count": null,
      "metadata": {
        "id": "ckDTPzhEkLrD",
        "outputId": "c1ab3ab4-e54a-4532-8fba-ebf89f9fcfd1"
      },
      "outputs": [
        {
          "name": "stdout",
          "output_type": "stream",
          "text": [
            "20\n"
          ]
        }
      ],
      "source": [
        "# First method \n",
        "first = int(input(\"ENTER FIRST NUMBER : \"))\n",
        "second = int(input(\"ENTER SECOND NUMBER : \"))\n",
        "\n",
        "if first == second:\n",
        "    double = (first + second) * 2\n",
        "    print(double)\n",
        "else:\n",
        "    tot = first + second\n",
        "    print(tot)"
      ]
    },
    {
      "cell_type": "code",
      "execution_count": null,
      "metadata": {
        "id": "nwohAURzkLrH",
        "outputId": "41c40f7d-5ee3-4e23-e5d4-4bb7e9c3df8c"
      },
      "outputs": [
        {
          "name": "stdout",
          "output_type": "stream",
          "text": [
            "25\n"
          ]
        }
      ],
      "source": [
        "#Second method\n",
        "a = 10\n",
        "b = 15\n",
        "sum = a + b\n",
        "\n",
        "if a == b :\n",
        "    sum = sum * 2\n",
        "\n",
        "print(sum)"
      ]
    },
    {
      "cell_type": "code",
      "execution_count": null,
      "metadata": {
        "id": "SISuBQ5PkLrJ",
        "outputId": "c83f751d-2061-43ea-87b2-0e86a7802869"
      },
      "outputs": [
        {
          "name": "stdout",
          "output_type": "stream",
          "text": [
            "40\n"
          ]
        }
      ],
      "source": [
        "a = 10\n",
        "b = 10\n",
        "sum = a + b\n",
        "\n",
        "if a == b :\n",
        "    sum = sum * 2\n",
        "\n",
        "print(sum)"
      ]
    },
    {
      "cell_type": "markdown",
      "metadata": {
        "id": "MVEMNwNRkLrN"
      },
      "source": [
        "Q 2: We have two monkeys, a and b, and the parameters a_smile and b_smile indicate if each is smiling. We are in trouble if they are both smiling or if neither of them is smiling. Return True if we are in trouble.\n",
        "\n",
        "monkey_trouble(True,True)   ....True\n",
        "\n",
        "monkey_trouble(False,False)  ...True\n",
        "\n",
        "monkey_trouble(True, False)   ..False"
      ]
    },
    {
      "cell_type": "code",
      "execution_count": null,
      "metadata": {
        "id": "ZX0hV3hWkLrQ",
        "outputId": "dd9bd07b-48c2-4929-ac21-40f24c5aac3d"
      },
      "outputs": [
        {
          "name": "stdout",
          "output_type": "stream",
          "text": [
            "False\n"
          ]
        }
      ],
      "source": [
        "a_smile = True\n",
        "b_smile = False\n",
        "\n",
        "trouble =(not a_smile or b_smile) and (a_smile or not b_smile)\n",
        "\n",
        "print(trouble)"
      ]
    },
    {
      "cell_type": "code",
      "execution_count": null,
      "metadata": {
        "id": "zF3MCA8jkLrW",
        "outputId": "c088423f-5485-40d2-8bac-5861e24493e1"
      },
      "outputs": [
        {
          "name": "stdout",
          "output_type": "stream",
          "text": [
            "True\n"
          ]
        }
      ],
      "source": [
        "a_smile = True\n",
        "b_smile = True\n",
        "\n",
        "trouble =(not a_smile or b_smile) and (a_smile or not b_smile)\n",
        "\n",
        "print(trouble)"
      ]
    },
    {
      "cell_type": "code",
      "execution_count": null,
      "metadata": {
        "id": "EGZHdrBQkLrZ",
        "outputId": "52cc05c0-aafc-40f2-9b3e-b04fac92929e"
      },
      "outputs": [
        {
          "name": "stdout",
          "output_type": "stream",
          "text": [
            "True\n"
          ]
        }
      ],
      "source": [
        "a_smile = False\n",
        "b_smile = False\n",
        "\n",
        "trouble =(not a_smile or b_smile) and (a_smile or not b_smile)\n",
        "\n",
        "print(trouble)"
      ]
    },
    {
      "cell_type": "markdown",
      "metadata": {
        "id": "p58fY7c-kLrf"
      },
      "source": [
        "Q 3:We have a loud talking parrot. The \"hour\" parameter is the current hour time in the range 0.23 We are in trouble if the parrot is talking and the hour is before 7 or after 20. Return True if we are in trouble.\n",
        "parrot_trouble(True, 6) ...True\n",
        "\n",
        "parrot_trouble(True, 7) ...False\n",
        "\n",
        "parrot_trouble(False, 6) ...False\n"
      ]
    },
    {
      "cell_type": "code",
      "execution_count": null,
      "metadata": {
        "id": "UszrYoPAkLrl",
        "outputId": "af503fae-65a2-4dbf-d60a-e45d00736f86"
      },
      "outputs": [
        {
          "name": "stdout",
          "output_type": "stream",
          "text": [
            "False\n"
          ]
        }
      ],
      "source": [
        "parrot_talking = True\n",
        "hour = 17\n",
        "\n",
        "troble = parrot_talking and (hour < 7 or hour > 20)\n",
        "\n",
        "print(troble)"
      ]
    },
    {
      "cell_type": "code",
      "execution_count": null,
      "metadata": {
        "id": "nOicqemJkLrs",
        "outputId": "8ff7e3b0-aaab-4b33-c8b9-789c3baa8e39"
      },
      "outputs": [
        {
          "name": "stdout",
          "output_type": "stream",
          "text": [
            "True\n"
          ]
        }
      ],
      "source": [
        "parrot_talking = True\n",
        "hour = 6\n",
        "\n",
        "troble = parrot_talking and (hour < 7 or hour > 20)\n",
        "\n",
        "print(troble)"
      ]
    },
    {
      "cell_type": "markdown",
      "metadata": {
        "id": "sbL481klkLrt"
      },
      "source": [
        "Q 4: Given two integers, a and b return True if one of them is 10 or if their sum is 10\n",
        "\n",
        "makes10(9,10)  ...True\n",
        "\n",
        "makes(9,9)    ....FAlse\n",
        "\n",
        "makes(1,9)     ...true"
      ]
    },
    {
      "cell_type": "code",
      "execution_count": null,
      "metadata": {
        "id": "lVqnPBzJkLrt",
        "outputId": "c144e342-4289-4ac3-8493-ffe313d85c6f"
      },
      "outputs": [
        {
          "name": "stdout",
          "output_type": "stream",
          "text": [
            "True\n"
          ]
        }
      ],
      "source": [
        "a = 4\n",
        "b = 6\n",
        "sum = a + b\n",
        "answer = a == 10 or b == 10 or sum == 10\n",
        "print(answer)"
      ]
    },
    {
      "cell_type": "code",
      "execution_count": null,
      "metadata": {
        "id": "2qDebOgpkLru",
        "outputId": "fca40211-cfb7-4f53-b249-0c02bb1aaf90"
      },
      "outputs": [
        {
          "name": "stdout",
          "output_type": "stream",
          "text": [
            "False\n"
          ]
        }
      ],
      "source": [
        "a = 4\n",
        "b = 9\n",
        "sum = a + b\n",
        "answer = a == 10 or b == 10 or sum == 10\n",
        "print(answer)"
      ]
    },
    {
      "cell_type": "markdown",
      "metadata": {
        "id": "m6kF4CfLkLru"
      },
      "source": [
        "Q 5: Given an integer n, return True if it is within 10 of 100 or 200. Note: abs(num) computes the absolute value of a number.\n",
        "\n",
        "near_hundred(93)  ...True\n",
        "\n",
        "near_hundred(90)  ...True\n",
        "\n",
        "near_hundred(89)  ...False\n"
      ]
    },
    {
      "cell_type": "code",
      "execution_count": null,
      "metadata": {
        "id": "lfcw2c-ckLru",
        "outputId": "9a1b43b7-7034-4ea8-a87c-fd6e15546115"
      },
      "outputs": [
        {
          "name": "stdout",
          "output_type": "stream",
          "text": [
            "True\n"
          ]
        }
      ],
      "source": [
        "#first method\n",
        "n = 210\n",
        "answe = 90 <= n <= 110 or 190 <= n <= 210\n",
        "print(answe)"
      ]
    },
    {
      "cell_type": "code",
      "execution_count": null,
      "metadata": {
        "id": "0gzTLETikLrv",
        "outputId": "34a47ad5-2df2-43dc-9f03-b86fcc971625"
      },
      "outputs": [
        {
          "name": "stdout",
          "output_type": "stream",
          "text": [
            "False\n"
          ]
        }
      ],
      "source": [
        "n = 89\n",
        "answe = 90 <= n <= 110 or 190 <= n <= 210\n",
        "print(answe)"
      ]
    },
    {
      "cell_type": "code",
      "execution_count": null,
      "metadata": {
        "id": "ravCWPkGkLrv",
        "outputId": "b43f6799-9d22-47f4-a980-261661b15fee"
      },
      "outputs": [
        {
          "name": "stdout",
          "output_type": "stream",
          "text": [
            "True\n"
          ]
        }
      ],
      "source": [
        "#second method\n",
        "inp1 = int(input(\"Enter a number: \"))\n",
        "num = abs(100 - n)\n",
        "num1 = abs(200 - n)\n",
        "answer = num <= inp1 or num1 <= inp1\n",
        "print(answer)"
      ]
    },
    {
      "cell_type": "markdown",
      "metadata": {
        "id": "sz1l5f94kLrw"
      },
      "source": [
        "Q 6: Given two integer values, return True if one is negative and one is positive. Except if the parameter \"negative\" is True, then return True only if both are negative.\n",
        "\n",
        "pos_negativ(1, -1, False)  ..True\n",
        "\n",
        "pos_negativ(-1, 1, False)  ..True\n",
        "\n",
        "pos_negativ(-4, -5, True)  ..True"
      ]
    },
    {
      "cell_type": "code",
      "execution_count": null,
      "metadata": {
        "id": "fBWuTJF7kLrw",
        "outputId": "e2da24f3-6471-4911-b7e4-02e1ddf2aaa5"
      },
      "outputs": [
        {
          "name": "stdout",
          "output_type": "stream",
          "text": [
            "False\n"
          ]
        }
      ],
      "source": [
        "x = -5\n",
        "y = 11\n",
        "negative = True\n",
        "\n",
        "ansver = x < 0 and y > 0 or x > 0 and y < 0\n",
        "\n",
        "if negative:\n",
        "    answer = x < 0 and y < 0\n",
        "    \n",
        "print(answer)"
      ]
    },
    {
      "cell_type": "markdown",
      "metadata": {
        "id": "huR6BRiCkLrx"
      },
      "source": [
        "Define your own factorial function named factor using def."
      ]
    },
    {
      "cell_type": "code",
      "execution_count": null,
      "metadata": {
        "id": "m0nNpxfjkLrx"
      },
      "outputs": [],
      "source": [
        "def factor(a):\n",
        "\n",
        "    result = 1\n",
        "    for i in range(a):\n",
        "        result *= (i + 1)\n",
        "    return print(result)"
      ]
    },
    {
      "cell_type": "code",
      "execution_count": null,
      "metadata": {
        "id": "mj_xWBIekLry",
        "outputId": "13f10d5f-4b87-4163-888d-e283e4de8117"
      },
      "outputs": [
        {
          "name": "stdout",
          "output_type": "stream",
          "text": [
            "39916800\n"
          ]
        }
      ],
      "source": [
        "factor(11)"
      ]
    },
    {
      "cell_type": "markdown",
      "metadata": {
        "id": "ywUK5aHekLrz"
      },
      "source": [
        "\"datetime\" function is commonly used when working with date and time types."
      ]
    },
    {
      "cell_type": "code",
      "execution_count": null,
      "metadata": {
        "id": "ArXaaB9ikLrz",
        "outputId": "7ce6dd1b-226f-4284-f608-cdd6beabbb47"
      },
      "outputs": [
        {
          "name": "stdout",
          "output_type": "stream",
          "text": [
            "2022-03-17\n",
            "2022-03-17 12:52:05.863068\n"
          ]
        }
      ],
      "source": [
        "import datetime\n",
        "print(datetime.date.today())\n",
        "print(datetime.datetime.now())"
      ]
    },
    {
      "cell_type": "markdown",
      "metadata": {
        "id": "Xx4N8SitkLr0"
      },
      "source": [
        "string function is used for common string operations."
      ]
    },
    {
      "cell_type": "code",
      "execution_count": null,
      "metadata": {
        "id": "_Ah2paEtkLr0",
        "outputId": "e1a7fe08-a212-4df6-9433-5dde23664bb6"
      },
      "outputs": [
        {
          "name": "stdout",
          "output_type": "stream",
          "text": [
            "!\"#$%&'()*+,-./:;<=>?@[\\]^_`{|}~\n",
            "0123456789\n"
          ]
        }
      ],
      "source": [
        "import string as sgg\n",
        "print(sgg.punctuation)\n",
        "print(sgg.digits)"
      ]
    },
    {
      "cell_type": "markdown",
      "metadata": {
        "id": "HC3dA46NkLr2"
      },
      "source": [
        "random is a module that contains functions that allow us to select randomly from various data types."
      ]
    },
    {
      "cell_type": "code",
      "execution_count": null,
      "metadata": {
        "id": "3VYg0doFkLr2",
        "outputId": "f6712457-76c1-4628-f4b1-587618ebe5d5"
      },
      "outputs": [
        {
          "name": "stdout",
          "output_type": "stream",
          "text": [
            "Helsinborg\n"
          ]
        }
      ],
      "source": [
        "from random import choice\n",
        "stads = ['Uppsala','Göteborg','Halmstad','Helsinborg','Gävle']\n",
        "print(choice(stads))"
      ]
    },
    {
      "cell_type": "code",
      "execution_count": null,
      "metadata": {
        "id": "1WAuriiJkLr3",
        "outputId": "3e6cc777-be04-4637-fb9e-d4076b22a874"
      },
      "outputs": [
        {
          "name": "stdout",
          "output_type": "stream",
          "text": [
            "CANIM HANIMIM NESE\n"
          ]
        }
      ],
      "source": [
        "from random import choice\n",
        "names = ['CANIM OGLUM FERIT EFE','CANIM HANIMIM NESE','TATLI KIZIM MELIHA EMINE','TATLI KIZIM SENA']\n",
        "print(choice(names))"
      ]
    },
    {
      "cell_type": "code",
      "execution_count": null,
      "metadata": {
        "id": "agn8gX1tkLr4"
      },
      "outputs": [],
      "source": [
        ""
      ]
    }
  ],
  "metadata": {
    "interpreter": {
      "hash": "832846a74a0590b51c6a03d6e85366ed32ab2ada9d1f0302b9699cda738154f0"
    },
    "kernelspec": {
      "display_name": "Python 3.10.2 64-bit",
      "language": "python",
      "name": "python3"
    },
    "language_info": {
      "codemirror_mode": {
        "name": "ipython",
        "version": 3
      },
      "file_extension": ".py",
      "mimetype": "text/x-python",
      "name": "python",
      "nbconvert_exporter": "python",
      "pygments_lexer": "ipython3",
      "version": "3.10.2"
    },
    "orig_nbformat": 4,
    "colab": {
      "name": "python_workshop3.ipynb",
      "provenance": [],
      "include_colab_link": true
    }
  },
  "nbformat": 4,
  "nbformat_minor": 0
}