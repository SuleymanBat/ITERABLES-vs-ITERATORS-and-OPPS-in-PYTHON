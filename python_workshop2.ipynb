{
  "cells": [
    {
      "cell_type": "markdown",
      "metadata": {
        "id": "view-in-github",
        "colab_type": "text"
      },
      "source": [
        "<a href=\"https://colab.research.google.com/github/SuleymanBat/ITERABLES-vs-ITERATORS-and-OPPS-in-PYTHON/blob/main/python_workshop2.ipynb\" target=\"_parent\"><img src=\"https://colab.research.google.com/assets/colab-badge.svg\" alt=\"Open In Colab\"/></a>"
      ]
    },
    {
      "cell_type": "markdown",
      "metadata": {
        "id": "IeIlgNoU4ehp"
      },
      "source": [
        "Example 1. Python Example Listing Numbers 1-100 on the Screen."
      ]
    },
    {
      "cell_type": "code",
      "execution_count": null,
      "metadata": {
        "id": "Fn_aHmnh4ehy"
      },
      "outputs": [],
      "source": [
        "for i in range(1,101):\n",
        "    print(i)"
      ]
    },
    {
      "cell_type": "markdown",
      "metadata": {
        "id": "Rdgd3JG24eh0"
      },
      "source": [
        "Example 2. Python Example Listing Odd Numbers 1-100 on the Screen."
      ]
    },
    {
      "cell_type": "code",
      "execution_count": null,
      "metadata": {
        "id": "Dp9T79BI4eh1"
      },
      "outputs": [],
      "source": [
        "for i in range(1, 101):\n",
        "    if i % 2:\n",
        "        print(i)"
      ]
    },
    {
      "cell_type": "markdown",
      "metadata": {
        "id": "WlCfey6m4eh3"
      },
      "source": [
        "Example 3. Python Example Listing Even Numbers 1-100 on the Screen."
      ]
    },
    {
      "cell_type": "code",
      "execution_count": null,
      "metadata": {
        "id": "mwalce3H4eh4"
      },
      "outputs": [],
      "source": [
        "for i in range(2, 101, 2):\n",
        "    print(i)"
      ]
    },
    {
      "cell_type": "markdown",
      "metadata": {
        "id": "pJ66n3534eh5"
      },
      "source": [
        "Example 4: Python Example to find numbers 1-100 divisible by 3 and 5"
      ]
    },
    {
      "cell_type": "code",
      "execution_count": null,
      "metadata": {
        "id": "bvLyUfqg4eh6",
        "outputId": "c6b7643a-8c97-4cc4-bd28-3aeba63b1bd6"
      },
      "outputs": [
        {
          "name": "stdout",
          "output_type": "stream",
          "text": [
            "15 The number you wrote can divisible by 3 and 5\n",
            "30 The number you wrote can divisible by 3 and 5\n",
            "45 The number you wrote can divisible by 3 and 5\n",
            "60 The number you wrote can divisible by 3 and 5\n",
            "75 The number you wrote can divisible by 3 and 5\n",
            "90 The number you wrote can divisible by 3 and 5\n"
          ]
        }
      ],
      "source": [
        "for i in range(1,101):\n",
        "    if i % 3 == 0 and i % 5 == 0 :\n",
        "        print(i, \"The number you wrote can divisible by 3 and 5\")"
      ]
    },
    {
      "cell_type": "code",
      "execution_count": null,
      "metadata": {
        "id": "62JiG7qj4eh8"
      },
      "outputs": [],
      "source": [
        "for i in range(1,101):\n",
        "    if i % 3 == 0 or i % 5 == 0 :\n",
        "        print(i, \"The number you wrote can divisible by 3 or 5\")"
      ]
    },
    {
      "cell_type": "markdown",
      "metadata": {
        "id": "Mjx6kr9y4eh9"
      },
      "source": [
        "Example 5: Python Example to listing numbers from 1 to the number which entered by user"
      ]
    },
    {
      "cell_type": "code",
      "execution_count": null,
      "metadata": {
        "id": "RJ0r9jqi4eh-",
        "outputId": "9723f34b-920f-4363-8195-a02ef243fd35"
      },
      "outputs": [
        {
          "name": "stdout",
          "output_type": "stream",
          "text": [
            "1\n",
            "2\n"
          ]
        }
      ],
      "source": [
        "anyy= int(input(\"Enter any number : \"))\n",
        "for i in range(1, anyy):\n",
        "    print(i)"
      ]
    },
    {
      "cell_type": "markdown",
      "metadata": {
        "id": "28zLb1pj4eh_"
      },
      "source": [
        "Example 6: Python Example Finding Area and Perimeter of Rectangle with Sides Entered"
      ]
    },
    {
      "cell_type": "code",
      "execution_count": null,
      "metadata": {
        "id": "1xp4hgTH4eh_",
        "outputId": "369cf506-b9f3-4b1f-e897-604d5c9426bd"
      },
      "outputs": [
        {
          "name": "stdout",
          "output_type": "stream",
          "text": [
            "The area of the rectangle formed by the numbers you typed is 12.42. Perimeter is 14.6.\n"
          ]
        }
      ],
      "source": [
        "num1 = float(input(\"enter a number: \"))\n",
        "num2 = float(input(\"Enter one more time a number: \"))\n",
        "area = round((num1 * num2), 2)\n",
        "peri = round(((num1 + num2) * 2), 2)\n",
        "print(f\"The area of the rectangle formed by the numbers you typed is {area}. Perimeter is {peri}.\")"
      ]
    },
    {
      "cell_type": "markdown",
      "metadata": {
        "id": "ZjG2znDm4eiA"
      },
      "source": [
        "Example 7: Example of Python that prints the letters of the entered text one after the other"
      ]
    },
    {
      "cell_type": "code",
      "execution_count": null,
      "metadata": {
        "id": "ze6kEmhQ4eiA",
        "outputId": "9ecf25e2-0599-4a61-aa61-f6e0ef1dcc2b"
      },
      "outputs": [
        {
          "name": "stdout",
          "output_type": "stream",
          "text": [
            "f\n",
            "e\n",
            "r\n",
            "i\n",
            "t\n",
            " \n",
            "e\n",
            "f\n",
            "e\n",
            "I wrote your name on the screen.\n"
          ]
        }
      ],
      "source": [
        "nam = \"ferit efe\"\n",
        "counter = 0\n",
        "while counter < len(nam):\n",
        "    print(nam[counter])\n",
        "    counter += 1\n",
        "print(\"I wrote your name on the screen.\")"
      ]
    },
    {
      "cell_type": "markdown",
      "metadata": {
        "id": "CDr_R5tQ4eiB"
      },
      "source": [
        "Example 8: Example of Python showing the sum of the numbers between two numbers entered by the user."
      ]
    },
    {
      "cell_type": "code",
      "execution_count": null,
      "metadata": {
        "id": "TdRnRgWM4eiB",
        "outputId": "dba1c8fd-118e-43dd-d2e8-717d52f456a4"
      },
      "outputs": [
        {
          "name": "stdout",
          "output_type": "stream",
          "text": [
            "35\n"
          ]
        }
      ],
      "source": [
        "nu1 = int(input(\"Enter a number: \"))\n",
        "nu2 = int(input(\"Enter second number: \"))\n",
        "summ = 0\n",
        "if nu1 < nu2 :\n",
        "    for i in range(nu1, nu2):\n",
        "        summ += i\n",
        "else:\n",
        "    for i in range(nu2, nu1):\n",
        "        summ += i\n",
        "\n",
        "print(summ)"
      ]
    },
    {
      "cell_type": "markdown",
      "metadata": {
        "id": "mrwhZsqg4eiC"
      },
      "source": [
        "Example 9: Ask the user to choose cinema or theater. It is necessary to pay $15  for watching movies and $10 for theater. Considering that students are given a 50% discount, if they are students, the discount is given; If he is not a student, write the code that calculates the non-discounted amount and prints it on the screen."
      ]
    },
    {
      "cell_type": "code",
      "execution_count": null,
      "metadata": {
        "id": "OyPhhqzT4eiD",
        "outputId": "10502392-dde7-4a94-baa1-8b6d28d2cb70"
      },
      "outputs": [
        {
          "name": "stdout",
          "output_type": "stream",
          "text": [
            "You need to pay $ 15\n"
          ]
        }
      ],
      "source": [
        "chose = input(\"are you prefer cinema or theater? : \").lower()\n",
        "dec = input(\"are you a student?: \").lower()\n",
        "\n",
        "if chose == \"cinema\" and dec == \"no\":\n",
        "    print(\"You need to pay $ 15\")\n",
        "elif chose == \"theater\" and dec == \"no\":\n",
        "    print(\"You need to pay $10\")\n",
        "elif dec == \"yes\" and chose == \"cinema\":\n",
        "    print(\"You need to pay $7.5\")\n",
        "elif dec == \"yes\" and chose == \"theater\":\n",
        "    print(\"You need to pay $5\")\n"
      ]
    }
  ],
  "metadata": {
    "interpreter": {
      "hash": "832846a74a0590b51c6a03d6e85366ed32ab2ada9d1f0302b9699cda738154f0"
    },
    "kernelspec": {
      "display_name": "Python 3.10.2 64-bit",
      "language": "python",
      "name": "python3"
    },
    "language_info": {
      "codemirror_mode": {
        "name": "ipython",
        "version": 3
      },
      "file_extension": ".py",
      "mimetype": "text/x-python",
      "name": "python",
      "nbconvert_exporter": "python",
      "pygments_lexer": "ipython3",
      "version": "3.10.2"
    },
    "orig_nbformat": 4,
    "colab": {
      "name": "python_workshop2.ipynb",
      "provenance": [],
      "include_colab_link": true
    }
  },
  "nbformat": 4,
  "nbformat_minor": 0
}